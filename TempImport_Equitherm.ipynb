{
  "nbformat": 4,
  "nbformat_minor": 0,
  "metadata": {
    "colab": {
      "provenance": [],
      "history_visible": true,
      "authorship_tag": "ABX9TyProurIcvaWhw9i28cVOoYM",
      "include_colab_link": true
    },
    "kernelspec": {
      "name": "python3",
      "display_name": "Python 3"
    },
    "language_info": {
      "name": "python"
    }
  },
  "cells": [
    {
      "cell_type": "markdown",
      "metadata": {
        "id": "view-in-github",
        "colab_type": "text"
      },
      "source": [
        "<a href=\"https://colab.research.google.com/github/MarekCoderslab/CHMI/blob/main/TempImport_Equitherm.ipynb\" target=\"_parent\"><img src=\"https://colab.research.google.com/assets/colab-badge.svg\" alt=\"Open In Colab\"/></a>"
      ]
    },
    {
      "cell_type": "markdown",
      "source": [
        "# Opening Drive with CSV"
      ],
      "metadata": {
        "id": "KmNLuuS7mwFm"
      }
    },
    {
      "cell_type": "code",
      "execution_count": null,
      "metadata": {
        "colab": {
          "base_uri": "https://localhost:8080/"
        },
        "id": "BQ2Csj_TmsRx",
        "outputId": "9d3e79c2-4e76-485f-d33b-6845344e8c64"
      },
      "outputs": [
        {
          "output_type": "stream",
          "name": "stdout",
          "text": [
            "Mounted at /content/drive\n"
          ]
        }
      ],
      "source": [
        "from google.colab import drive\n",
        "drive.mount('/content/drive')\n"
      ]
    },
    {
      "cell_type": "markdown",
      "source": [
        "## Opening drive CHMI and importing all CSVs"
      ],
      "metadata": {
        "id": "OE5oZz7uC3fZ"
      }
    },
    {
      "cell_type": "code",
      "source": [
        "import os\n",
        "import pandas as pd\n",
        "\n",
        "# Path to your folder in Google Drive\n",
        "folder_path = \"/content/drive/MyDrive/Colab Notebooks/CHMI\"\n",
        "\n",
        "# Read all CSVs\n",
        "dfs = []\n",
        "for file in os.listdir(folder_path):\n",
        "    if file.endswith(\".csv\"):\n",
        "        csv_path = os.path.join(folder_path, file)\n",
        "        df = pd.read_csv(csv_path, sep=\",\")   # change sep if needed\n",
        "        df[\"source_file\"] = file             # keep track of origin\n",
        "        dfs.append(df)\n",
        "\n",
        "# Combine into one DataFrame\n",
        "combined_df = pd.concat(dfs, ignore_index=True)\n",
        "\n",
        "# Show first rows\n",
        "print(combined_df.head())\n"
      ],
      "metadata": {
        "colab": {
          "base_uri": "https://localhost:8080/"
        },
        "id": "nj1kM2WOoZ_S",
        "outputId": "0bddcd92-a457-45fa-e31a-f75f760b9234"
      },
      "execution_count": null,
      "outputs": [
        {
          "output_type": "stream",
          "name": "stdout",
          "text": [
            "         STATION ELEMENT                 DT  VALUE FLAG  QUALITY  Unnamed: 6  \\\n",
            "0  0-203-0-11621     TPM  2018-01-01T00:00Z    5.8  NaN      0.0         NaN   \n",
            "1  0-203-0-11621     TPM  2018-01-01T00:10Z    5.8  NaN      0.0         NaN   \n",
            "2  0-203-0-11621     TPM  2018-01-01T00:20Z    5.3  NaN      0.0         NaN   \n",
            "3  0-203-0-11621     TPM  2018-01-01T00:30Z    5.0  NaN      0.0         NaN   \n",
            "4  0-203-0-11621     TPM  2018-01-01T00:40Z    5.0  NaN      0.0         NaN   \n",
            "\n",
            "                        source_file  \n",
            "0  10m-0-203-0-11621-TPM-201801.csv  \n",
            "1  10m-0-203-0-11621-TPM-201801.csv  \n",
            "2  10m-0-203-0-11621-TPM-201801.csv  \n",
            "3  10m-0-203-0-11621-TPM-201801.csv  \n",
            "4  10m-0-203-0-11621-TPM-201801.csv  \n"
          ]
        }
      ]
    },
    {
      "cell_type": "markdown",
      "source": [
        "## Change of DT column to DateTime"
      ],
      "metadata": {
        "id": "wD6o0d0jDZkO"
      }
    },
    {
      "cell_type": "code",
      "source": [
        "# Převedeme sloupec \"DT\" na datetime\n",
        "combined_df[\"DT\"] = pd.to_datetime(combined_df[\"DT\"], errors=\"coerce\")\n",
        "\n",
        "# Zkontrolujeme první řádky\n",
        "print(combined_df[\"DT\"].head())\n",
        "print(combined_df.dtypes)\n"
      ],
      "metadata": {
        "colab": {
          "base_uri": "https://localhost:8080/"
        },
        "id": "gcSqBn3I_5Ua",
        "outputId": "6af3b58c-1e77-4e5f-9abb-ead618c36a42"
      },
      "execution_count": null,
      "outputs": [
        {
          "output_type": "stream",
          "name": "stdout",
          "text": [
            "0   2018-01-01 00:00:00+00:00\n",
            "1   2018-01-01 00:10:00+00:00\n",
            "2   2018-01-01 00:20:00+00:00\n",
            "3   2018-01-01 00:30:00+00:00\n",
            "4   2018-01-01 00:40:00+00:00\n",
            "Name: DT, dtype: datetime64[ns, UTC]\n",
            "STATION                     object\n",
            "ELEMENT                     object\n",
            "DT             datetime64[ns, UTC]\n",
            "VALUE                      float64\n",
            "FLAG                        object\n",
            "QUALITY                    float64\n",
            "Unnamed: 6                 float64\n",
            "source_file                 object\n",
            "dtype: object\n"
          ]
        }
      ]
    },
    {
      "cell_type": "markdown",
      "source": [
        "## Make hourly average VALUE and Save it to separate CSV"
      ],
      "metadata": {
        "id": "NElB5IKWDqGs"
      }
    },
    {
      "cell_type": "code",
      "source": [
        "import pandas as pd\n",
        "\n",
        "# předpokládám, že combined_df má sloupce \"DT\" (datetime) a \"VALUE\" (číselná veličina)\n",
        "\n",
        "# Nastavení datetime indexu\n",
        "df = combined_df.set_index(\"DT\")\n",
        "\n",
        "# Přepočet na hodinový průměr\n",
        "hourly_avg = df[\"VALUE\"].resample(\"H\").mean()\n",
        "\n",
        "# Uložení do CSV\n",
        "hourly_avg.to_csv(\"hourly_avg.csv\")\n",
        "\n",
        "print(hourly_avg.head(10))\n"
      ],
      "metadata": {
        "colab": {
          "base_uri": "https://localhost:8080/"
        },
        "id": "ZzlpDbfTA3-9",
        "outputId": "d438f6c9-e798-4300-a513-704740bb7d3a"
      },
      "execution_count": null,
      "outputs": [
        {
          "output_type": "stream",
          "name": "stderr",
          "text": [
            "/tmp/ipython-input-1136032401.py:9: FutureWarning: 'H' is deprecated and will be removed in a future version, please use 'h' instead.\n",
            "  hourly_avg = df[\"VALUE\"].resample(\"H\").mean()\n"
          ]
        },
        {
          "output_type": "stream",
          "name": "stdout",
          "text": [
            "DT\n",
            "2018-01-01 00:00:00+00:00    5.316667\n",
            "2018-01-01 01:00:00+00:00    5.216667\n",
            "2018-01-01 02:00:00+00:00    5.350000\n",
            "2018-01-01 03:00:00+00:00    4.550000\n",
            "2018-01-01 04:00:00+00:00    2.683333\n",
            "2018-01-01 05:00:00+00:00    4.200000\n",
            "2018-01-01 06:00:00+00:00    6.616667\n",
            "2018-01-01 07:00:00+00:00    7.350000\n",
            "2018-01-01 08:00:00+00:00    7.550000\n",
            "2018-01-01 09:00:00+00:00    7.516667\n",
            "Freq: h, Name: VALUE, dtype: float64\n"
          ]
        }
      ]
    },
    {
      "cell_type": "code",
      "source": [
        "combined_df.info()"
      ],
      "metadata": {
        "colab": {
          "base_uri": "https://localhost:8080/"
        },
        "id": "OmY6H_edqdTb",
        "outputId": "ca6db761-b3f6-4a3e-f9c6-adadbc2fa018"
      },
      "execution_count": null,
      "outputs": [
        {
          "output_type": "stream",
          "name": "stdout",
          "text": [
            "<class 'pandas.core.frame.DataFrame'>\n",
            "RangeIndex: 368208 entries, 0 to 368207\n",
            "Data columns (total 8 columns):\n",
            " #   Column       Non-Null Count   Dtype              \n",
            "---  ------       --------------   -----              \n",
            " 0   STATION      368208 non-null  object             \n",
            " 1   ELEMENT      368208 non-null  object             \n",
            " 2   DT           368208 non-null  datetime64[ns, UTC]\n",
            " 3   VALUE        368208 non-null  float64            \n",
            " 4   FLAG         2 non-null       object             \n",
            " 5   QUALITY      368208 non-null  float64            \n",
            " 6   Unnamed: 6   0 non-null       float64            \n",
            " 7   source_file  368208 non-null  object             \n",
            "dtypes: datetime64[ns, UTC](1), float64(3), object(4)\n",
            "memory usage: 22.5+ MB\n"
          ]
        }
      ]
    },
    {
      "cell_type": "code",
      "source": [
        "hourly_avg.info()"
      ],
      "metadata": {
        "colab": {
          "base_uri": "https://localhost:8080/"
        },
        "id": "IacsSsXjCdGm",
        "outputId": "2ffd38db-6ae6-4188-8c38-ad15b2b69f6e"
      },
      "execution_count": null,
      "outputs": [
        {
          "output_type": "stream",
          "name": "stdout",
          "text": [
            "<class 'pandas.core.series.Series'>\n",
            "DatetimeIndex: 61368 entries, 2018-01-01 00:00:00+00:00 to 2024-12-31 23:00:00+00:00\n",
            "Freq: h\n",
            "Series name: VALUE\n",
            "Non-Null Count  Dtype  \n",
            "--------------  -----  \n",
            "61368 non-null  float64\n",
            "dtypes: float64(1)\n",
            "memory usage: 958.9 KB\n"
          ]
        }
      ]
    },
    {
      "cell_type": "code",
      "source": [
        "mid = len(combined_df) // 2\n",
        "sample = combined_df.iloc[mid-10:mid+10]\n",
        "print(sample)\n"
      ],
      "metadata": {
        "colab": {
          "base_uri": "https://localhost:8080/"
        },
        "id": "3ck1Jlz5rtrg",
        "outputId": "9d629327-8b44-4095-c309-0a247ec071f9"
      },
      "execution_count": null,
      "outputs": [
        {
          "output_type": "stream",
          "name": "stdout",
          "text": [
            "              STATION ELEMENT                        DT  VALUE FLAG  QUALITY  \\\n",
            "184094  0-203-0-11621     TPM 2022-07-02 10:20:00+00:00   36.4  NaN      0.0   \n",
            "184095  0-203-0-11621     TPM 2022-07-02 10:30:00+00:00   37.3  NaN      0.0   \n",
            "184096  0-203-0-11621     TPM 2022-07-02 10:40:00+00:00   35.9  NaN      0.0   \n",
            "184097  0-203-0-11621     TPM 2022-07-02 10:50:00+00:00   36.0  NaN      0.0   \n",
            "184098  0-203-0-11621     TPM 2022-07-02 11:00:00+00:00   31.0  NaN      0.0   \n",
            "184099  0-203-0-11621     TPM 2022-07-02 11:10:00+00:00   35.4  NaN      0.0   \n",
            "184100  0-203-0-11621     TPM 2022-07-02 11:20:00+00:00   36.0  NaN      0.0   \n",
            "184101  0-203-0-11621     TPM 2022-07-02 11:30:00+00:00   39.2  NaN      0.0   \n",
            "184102  0-203-0-11621     TPM 2022-07-02 11:40:00+00:00   29.4  NaN      0.0   \n",
            "184103  0-203-0-11621     TPM 2022-07-02 11:50:00+00:00   32.1  NaN      0.0   \n",
            "184104  0-203-0-11621     TPM 2022-07-02 12:00:00+00:00   37.0  NaN      0.0   \n",
            "184105  0-203-0-11621     TPM 2022-07-02 12:10:00+00:00   38.9  NaN      0.0   \n",
            "184106  0-203-0-11621     TPM 2022-07-02 12:20:00+00:00   37.5  NaN      0.0   \n",
            "184107  0-203-0-11621     TPM 2022-07-02 12:30:00+00:00   38.6  NaN      0.0   \n",
            "184108  0-203-0-11621     TPM 2022-07-02 12:40:00+00:00   38.6  NaN      0.0   \n",
            "184109  0-203-0-11621     TPM 2022-07-02 12:50:00+00:00   34.5  NaN      0.0   \n",
            "184110  0-203-0-11621     TPM 2022-07-02 13:00:00+00:00   29.1  NaN      0.0   \n",
            "184111  0-203-0-11621     TPM 2022-07-02 13:10:00+00:00   34.2  NaN      0.0   \n",
            "184112  0-203-0-11621     TPM 2022-07-02 13:20:00+00:00   37.0  NaN      0.0   \n",
            "184113  0-203-0-11621     TPM 2022-07-02 13:30:00+00:00   38.1  NaN      0.0   \n",
            "\n",
            "        Unnamed: 6                       source_file  \n",
            "184094         NaN  10m-0-203-0-11621-TPM-202207.csv  \n",
            "184095         NaN  10m-0-203-0-11621-TPM-202207.csv  \n",
            "184096         NaN  10m-0-203-0-11621-TPM-202207.csv  \n",
            "184097         NaN  10m-0-203-0-11621-TPM-202207.csv  \n",
            "184098         NaN  10m-0-203-0-11621-TPM-202207.csv  \n",
            "184099         NaN  10m-0-203-0-11621-TPM-202207.csv  \n",
            "184100         NaN  10m-0-203-0-11621-TPM-202207.csv  \n",
            "184101         NaN  10m-0-203-0-11621-TPM-202207.csv  \n",
            "184102         NaN  10m-0-203-0-11621-TPM-202207.csv  \n",
            "184103         NaN  10m-0-203-0-11621-TPM-202207.csv  \n",
            "184104         NaN  10m-0-203-0-11621-TPM-202207.csv  \n",
            "184105         NaN  10m-0-203-0-11621-TPM-202207.csv  \n",
            "184106         NaN  10m-0-203-0-11621-TPM-202207.csv  \n",
            "184107         NaN  10m-0-203-0-11621-TPM-202207.csv  \n",
            "184108         NaN  10m-0-203-0-11621-TPM-202207.csv  \n",
            "184109         NaN  10m-0-203-0-11621-TPM-202207.csv  \n",
            "184110         NaN  10m-0-203-0-11621-TPM-202207.csv  \n",
            "184111         NaN  10m-0-203-0-11621-TPM-202207.csv  \n",
            "184112         NaN  10m-0-203-0-11621-TPM-202207.csv  \n",
            "184113         NaN  10m-0-203-0-11621-TPM-202207.csv  \n"
          ]
        }
      ]
    },
    {
      "cell_type": "code",
      "source": [
        "print(combined_df[\"source_file\"].value_counts())\n",
        "\n"
      ],
      "metadata": {
        "colab": {
          "base_uri": "https://localhost:8080/"
        },
        "id": "yiS1En2t9FKG",
        "outputId": "f5009739-3767-43a4-da8f-1017761b33cb"
      },
      "execution_count": null,
      "outputs": [
        {
          "output_type": "stream",
          "name": "stdout",
          "text": [
            "source_file\n",
            "10m-0-203-0-11621-TPM-201801.csv    4464\n",
            "10m-0-203-0-11621-TPM-201803.csv    4464\n",
            "10m-0-203-0-11621-TPM-201807.csv    4464\n",
            "10m-0-203-0-11621-TPM-201805.csv    4464\n",
            "10m-0-203-0-11621-TPM-202008.csv    4464\n",
            "                                    ... \n",
            "10m-0-203-0-11621-TPM-201802.csv    4032\n",
            "10m-0-203-0-11621-TPM-202302.csv    4032\n",
            "10m-0-203-0-11621-TPM-202202.csv    4032\n",
            "10m-0-203-0-11621-TPM-202102.csv    4032\n",
            "10m-0-203-0-11621-TPM-201902.csv    4032\n",
            "Name: count, Length: 84, dtype: int64\n"
          ]
        }
      ]
    },
    {
      "cell_type": "code",
      "source": [
        "combined_df[\"source_file\"].value_counts().to_csv(\"source_files_counts.csv\")\n"
      ],
      "metadata": {
        "id": "9Q8y1rh89xXg"
      },
      "execution_count": null,
      "outputs": []
    },
    {
      "cell_type": "code",
      "source": [
        "from google.colab import files\n",
        "files.download(\"hourly_avg.csv\")\n"
      ],
      "metadata": {
        "colab": {
          "base_uri": "https://localhost:8080/",
          "height": 17
        },
        "id": "Ek64mvV-_WHw",
        "outputId": "fd99b26e-3102-4963-a27f-f9f3743ba9fc"
      },
      "execution_count": null,
      "outputs": [
        {
          "output_type": "display_data",
          "data": {
            "text/plain": [
              "<IPython.core.display.Javascript object>"
            ],
            "application/javascript": [
              "\n",
              "    async function download(id, filename, size) {\n",
              "      if (!google.colab.kernel.accessAllowed) {\n",
              "        return;\n",
              "      }\n",
              "      const div = document.createElement('div');\n",
              "      const label = document.createElement('label');\n",
              "      label.textContent = `Downloading \"${filename}\": `;\n",
              "      div.appendChild(label);\n",
              "      const progress = document.createElement('progress');\n",
              "      progress.max = size;\n",
              "      div.appendChild(progress);\n",
              "      document.body.appendChild(div);\n",
              "\n",
              "      const buffers = [];\n",
              "      let downloaded = 0;\n",
              "\n",
              "      const channel = await google.colab.kernel.comms.open(id);\n",
              "      // Send a message to notify the kernel that we're ready.\n",
              "      channel.send({})\n",
              "\n",
              "      for await (const message of channel.messages) {\n",
              "        // Send a message to notify the kernel that we're ready.\n",
              "        channel.send({})\n",
              "        if (message.buffers) {\n",
              "          for (const buffer of message.buffers) {\n",
              "            buffers.push(buffer);\n",
              "            downloaded += buffer.byteLength;\n",
              "            progress.value = downloaded;\n",
              "          }\n",
              "        }\n",
              "      }\n",
              "      const blob = new Blob(buffers, {type: 'application/binary'});\n",
              "      const a = document.createElement('a');\n",
              "      a.href = window.URL.createObjectURL(blob);\n",
              "      a.download = filename;\n",
              "      div.appendChild(a);\n",
              "      a.click();\n",
              "      div.remove();\n",
              "    }\n",
              "  "
            ]
          },
          "metadata": {}
        },
        {
          "output_type": "display_data",
          "data": {
            "text/plain": [
              "<IPython.core.display.Javascript object>"
            ],
            "application/javascript": [
              "download(\"download_72ac4fcb-82ca-40df-915e-141d64703bc8\", \"hourly_avg.csv\", 2579210)"
            ]
          },
          "metadata": {}
        }
      ]
    },
    {
      "cell_type": "code",
      "source": [
        "print(combined_df[\"source_file\"].nunique())\n"
      ],
      "metadata": {
        "colab": {
          "base_uri": "https://localhost:8080/"
        },
        "id": "tj_L6K0h-zer",
        "outputId": "c15a219a-258b-466b-ce5d-792b97570c77"
      },
      "execution_count": null,
      "outputs": [
        {
          "output_type": "stream",
          "name": "stdout",
          "text": [
            "84\n"
          ]
        }
      ]
    },
    {
      "cell_type": "markdown",
      "source": [],
      "metadata": {
        "id": "klsWhYZQ9xM5"
      }
    }
  ]
}